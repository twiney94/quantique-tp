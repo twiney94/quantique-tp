{
 "cells": [
  {
   "cell_type": "code",
   "execution_count": null,
   "metadata": {},
   "outputs": [],
   "source": [
    "from qiskit import QuantumCircuit, execute, Aer\n",
    "from qiskit.visualization import plot_histogram\n",
    "\n",
    "# Création d'un circuit avec 3 qbits\n",
    "QC = QuantumCircuit(3)\n",
    "\n",
    "# Ajout d'une porte de Hadamard sur les qbits 0 et 2 pour mettre le trésor de manière aléatoire\n",
    "QC.h(0)\n",
    "QC.h(2)\n",
    "\n",
    "# Ajout d'une porte CNOT pour intriquer les qbits 0 et 1\n",
    "QC.cx(0, 1)\n",
    "\n",
    "# Parcours mensonge\n",
    "QC.cx(2, 1)\n",
    "QC.x(2)\n",
    "QC.cx(2, 0)\n",
    "QC.x(2)\n",
    "\n",
    "# Question : Quelle porte l'autre gardien me dirait de prendre\n",
    "QC.swap(0,1)\n",
    "QC.x(0)\n",
    "QC.x(1)\n",
    "\n",
    "# Parcours mensonge\n",
    "QC.cx(2, 1)\n",
    "QC.x(2)\n",
    "QC.cx(2, 0)\n",
    "QC.x(2)\n",
    "\n",
    "# Mesures des qbits\n",
    "QC.measure_all()\n",
    "\n",
    "# Exécution & Visualisation\n",
    "simulator = Aer.get_backend('qasm_simulator')\n",
    "result = execute(QC, backend=simulator, shots=1024).result()\n",
    "counts = result.get_counts(QC)\n",
    "print(counts)\n",
    "plot_histogram(counts)"
   ]
  }
 ],
 "metadata": {
  "language_info": {
   "name": "python"
  }
 },
 "nbformat": 4,
 "nbformat_minor": 2
}
