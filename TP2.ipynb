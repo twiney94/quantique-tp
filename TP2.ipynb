{
 "cells": [
  {
   "cell_type": "code",
   "execution_count": null,
   "metadata": {},
   "outputs": [],
   "source": [
    "from qiskit import QuantumCircuit, QuantumRegister, Aer, transpile\n",
    "from qiskit_aer import AerSimulator\n",
    "from qiskit.visualization import *"
   ]
  },
  {
   "cell_type": "markdown",
   "metadata": {},
   "source": [
    "# Création du circuit\n",
    "# 4 qbits pour les participants\n",
    "# 4 qbits pour les raisonnements de chaque participant"
   ]
  },
  {
   "cell_type": "code",
   "execution_count": null,
   "metadata": {},
   "outputs": [],
   "source": [
    "circ = QuantumCircuit(8)"
   ]
  },
  {
   "cell_type": "markdown",
   "metadata": {},
   "source": [
    "# On place une porte Hadamard sur les 4 premiers qbits pour faire cohabiter toutes les combinaisons possibles de teintures"
   ]
  },
  {
   "cell_type": "code",
   "execution_count": null,
   "metadata": {},
   "outputs": [],
   "source": [
    "for i in range(4):\n",
    "    circ.h(i)\n",
    "circ.barrier()"
   ]
  },
  {
   "cell_type": "markdown",
   "metadata": {},
   "source": [
    "# Alice utilise des portes CNOT pour calculer le nombre de chevelures indigo devant elle.\n",
    "# Le calcul est consigné dans le qbit n°4"
   ]
  },
  {
   "cell_type": "code",
   "execution_count": null,
   "metadata": {},
   "outputs": [],
   "source": [
    "for i in range(1, 4):\n",
    "    circ.cx(4, i)\n",
    "circ.barrier()"
   ]
  },
  {
   "cell_type": "markdown",
   "metadata": {},
   "source": [
    "# Bob, Charlie et Dalia entendent la réponse d'Alice et enregistrent le résultat dans leurs qbits de raisonnement"
   ]
  },
  {
   "cell_type": "code",
   "execution_count": null,
   "metadata": {},
   "outputs": [],
   "source": [
    "for i in range(5, 8):\n",
    "    circ.cx(4, i)\n",
    "circ.barrier()"
   ]
  },
  {
   "cell_type": "markdown",
   "metadata": {},
   "source": [
    "# Bob utilise à son tour les portes CNOT pour voir les chevelures devant lui, et en déduit la sienne."
   ]
  },
  {
   "cell_type": "code",
   "execution_count": null,
   "metadata": {},
   "outputs": [],
   "source": [
    "for i in range(2, 4):\n",
    "    circ.cx(i, 5)\n",
    "circ.barrier()"
   ]
  },
  {
   "cell_type": "markdown",
   "metadata": {},
   "source": [
    "# Charlie et Dalia prennent note de sa réponse"
   ]
  },
  {
   "cell_type": "code",
   "execution_count": null,
   "metadata": {},
   "outputs": [],
   "source": [
    "for i in range(6, 8):\n",
    "    circ.cx(5, i)\n",
    "circ.barrier()"
   ]
  },
  {
   "cell_type": "markdown",
   "metadata": {},
   "source": [
    "# Charlie note la couleur de la chevelure devant lui, et l'annonce"
   ]
  },
  {
   "cell_type": "code",
   "execution_count": null,
   "metadata": {},
   "outputs": [],
   "source": [
    "circ.cx(3, 6)\n",
    "circ.barrier()"
   ]
  },
  {
   "cell_type": "markdown",
   "metadata": {},
   "source": [
    "# Dalia note la réponse et annonce la couleur"
   ]
  },
  {
   "cell_type": "code",
   "execution_count": null,
   "metadata": {},
   "outputs": [],
   "source": [
    "circ.cx(6, 7)\n",
    "circ.barrier()"
   ]
  },
  {
   "cell_type": "markdown",
   "metadata": {},
   "source": [
    "# Visualisation du circuit"
   ]
  },
  {
   "cell_type": "code",
   "execution_count": null,
   "metadata": {},
   "outputs": [],
   "source": [
    "circ.draw(\"mpl\", style=\"clifford\")"
   ]
  },
  {
   "cell_type": "markdown",
   "metadata": {},
   "source": [
    "# State Vector"
   ]
  },
  {
   "cell_type": "code",
   "execution_count": null,
   "metadata": {},
   "outputs": [],
   "source": [
    "statevector_backend = Aer.get_backend('statevector_simulator') \n",
    "statevector_job = statevector_backend.run(circ)\n",
    "statevector_result = statevector_job.result()\n",
    "statevector_outputstate = statevector_result.get_statevector(circ, decimals = 8)\n",
    "statevector_counts = statevector_result.get_counts()\n",
    "plot_state_qsphere(statevector_outputstate)\n",
    "plot_histogram(statevector_counts)"
   ]
  },
  {
   "cell_type": "markdown",
   "metadata": {},
   "source": [
    "# Simulation"
   ]
  },
  {
   "cell_type": "code",
   "execution_count": null,
   "metadata": {},
   "outputs": [],
   "source": [
    "circ.measure_all()\n",
    "simulator: AerSimulator = Aer.get_backend('aer_simulator')\n",
    "circ = transpile(circ, simulator)\n",
    "result = simulator.run(circ, shots=100_000).result()\n",
    "counts = result.get_counts(circ)\n",
    "plot_histogram(counts, title='Répartitions des teintures', bar_labels=False)"
   ]
  }
 ],
 "metadata": {
  "language_info": {
   "name": "python"
  }
 },
 "nbformat": 4,
 "nbformat_minor": 2
}
